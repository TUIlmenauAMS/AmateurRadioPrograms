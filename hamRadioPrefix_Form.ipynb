{
  "cells": [
    {
      "cell_type": "markdown",
      "metadata": {
        "id": "view-in-github",
        "colab_type": "text"
      },
      "source": [
        "<a href=\"https://colab.research.google.com/github/TUIlmenauAMS/AmateurRadioPrograms/blob/main/hamRadioPrefix_Form.ipynb\" target=\"_parent\"><img src=\"https://colab.research.google.com/assets/colab-badge.svg\" alt=\"Open In Colab\"/></a>"
      ]
    },
    {
      "cell_type": "code",
      "execution_count": null,
      "metadata": {
        "id": "5bxRXZD3xpZZ",
        "cellView": "form"
      },
      "outputs": [],
      "source": [
        "# @title Ham Radio Prefix (run this cell first once)\n",
        "\"\"\"\n",
        "Can you make an HTML page with javascript, which allows me to enter the prefix of an amateur radio call sign, and it displays the corresponding country?\n",
        "Here is a csv file containing the prefixes: 'https://github.com/k0swe/dxcc-json/blob/main/dxcc-2020-02.csv'. Can you use it here?\n",
        "The csv file has the columns \"Prefix, name,\tcontinent,\titu,\tcq,\tentityCode,\tdeleted,\toutgoingQslService,\tthirdPartyTraffic,\tvalidStart,\tvalidEnd,\tnotes,\tcountryCode,\tflag,\tprefixRegex\", where prefixRegex is a regular expression for the possible prefixes for each country. Can you search according to this regular expression, and then output the name, continent, itu, cq fields?\n",
        "Can you remove the first row, with \"Spratly Islands\", from the CSV table?\n",
        "Can you make a python program doing the same?\n",
        "Gerald Schuller, March 2024\n",
        "\"\"\"\n",
        "\n",
        "import requests\n",
        "import re\n",
        "import csv\n",
        "#import sys\n",
        "\n",
        "# URL to the CSV file\n",
        "csv_url = 'https://raw.githubusercontent.com/k0swe/dxcc-json/main/dxcc-2020-02.csv'\n",
        "\n",
        "def fetch_csv_data(url):\n",
        "    response = requests.get(url)\n",
        "    response.raise_for_status()  # Ensure we notice bad responses\n",
        "    # Decode the fetched bytes into a string, split into lines, and skip the first data row\n",
        "    data_lines = response.content.decode('utf-8').splitlines()[2:]\n",
        "    csv_reader = csv.reader(data_lines)\n",
        "    return list(csv_reader)\n",
        "\n",
        "def find_country_by_prefix(data, prefix):\n",
        "    for row in data:\n",
        "        # Assuming the columns are as follows:\n",
        "        # Prefix, Name, Continent, ITU, CQ, EntityCode, Deleted, OutgoingQslService, ThirdPartyTraffic, ValidStart, ValidEnd, Notes, CountryCode, Flag, PrefixRegex\n",
        "        _, name, continent, itu, cq, _, _, _, _, _, _, _, _, flag, prefix_regex = row\n",
        "        if re.search(prefix_regex, prefix, re.IGNORECASE):\n",
        "            return {\n",
        "                'name': name,\n",
        "                'continent': continent,\n",
        "                'itu': itu,\n",
        "                'cq': cq,\n",
        "                'flag': flag\n",
        "            }\n",
        "    return None\n",
        "\n",
        "def main(data,prefix_input):\n",
        "    #data = fetch_csv_data(csv_url)\n",
        "    if True:\n",
        "      #prefix_input = input(\"Enter call sign prefix: \").upper()\n",
        "      result = find_country_by_prefix(data, prefix_input)\n",
        "\n",
        "      if result:\n",
        "          print(f\"Name: {result['name']}, Continent: {result['continent']}, ITU: {result['itu']}, CQ: {result['cq']}, Flag: {result['flag']}\")\n",
        "          #print(\"Flag: \", result['flag'])\n",
        "          #sys.stdout.buffer.write(result['flag'].encode('utf8'))\n",
        "      else:\n",
        "          print(\"Country not found for given prefix.\")\n",
        "\n",
        "#if __name__ == \"__main__\":\n",
        "data = fetch_csv_data(csv_url)\n",
        "#main(data)\n"
      ]
    },
    {
      "cell_type": "code",
      "source": [
        "# @title Enter call prefix { run: \"auto\" }\n",
        "prefix_input = 'W4' # @param {type:\"string\"}\n",
        "print(\"Prefix=\", prefix_input)\n",
        "main(data, prefix_input)"
      ],
      "metadata": {
        "colab": {
          "base_uri": "https://localhost:8080/"
        },
        "id": "Mf9BegH9A8aC",
        "outputId": "bb6be722-7265-4540-ea6f-2d7553a81524",
        "cellView": "form"
      },
      "execution_count": null,
      "outputs": [
        {
          "output_type": "stream",
          "name": "stdout",
          "text": [
            "Prefix= W4\n",
            "Name: United States of America, Continent: NA, ITU: 6,7,8, CQ: 3,4,5, Flag: 🇺🇸\n"
          ]
        }
      ]
    }
  ],
  "metadata": {
    "colab": {
      "provenance": [],
      "authorship_tag": "ABX9TyNe4Kz+flWNB9ydVbczNTuH",
      "include_colab_link": true
    },
    "kernelspec": {
      "display_name": "Python 3",
      "name": "python3"
    },
    "language_info": {
      "name": "python"
    }
  },
  "nbformat": 4,
  "nbformat_minor": 0
}