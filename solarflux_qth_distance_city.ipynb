{
  "nbformat": 4,
  "nbformat_minor": 0,
  "metadata": {
    "colab": {
      "provenance": [],
      "authorship_tag": "ABX9TyMr6suQbB54fWDU8QM5HI/J",
      "include_colab_link": true
    },
    "kernelspec": {
      "name": "python3",
      "display_name": "Python 3"
    },
    "language_info": {
      "name": "python"
    }
  },
  "cells": [
    {
      "cell_type": "markdown",
      "metadata": {
        "id": "view-in-github",
        "colab_type": "text"
      },
      "source": [
        "<a href=\"https://colab.research.google.com/github/TUIlmenauAMS/AmateurRadioPrograms/blob/main/solarflux_qth_distance_city.ipynb\" target=\"_parent\"><img src=\"https://colab.research.google.com/assets/colab-badge.svg\" alt=\"Open In Colab\"/></a>"
      ]
    },
    {
      "cell_type": "markdown",
      "source": [],
      "metadata": {
        "id": "1j2jdR3nyrzJ"
      }
    },
    {
      "cell_type": "markdown",
      "source": [
        "### Run the cell below first, by clicking on the play button to its left (which appears when the mouse is moved over it):"
      ],
      "metadata": {
        "id": "IwXLi4IZyfIf"
      }
    },
    {
      "cell_type": "code",
      "execution_count": null,
      "metadata": {
        "colab": {
          "base_uri": "https://localhost:8080/"
        },
        "id": "8ooC7DhFHnYo",
        "outputId": "c92e6c93-25db-429e-c8d6-83338f3014d0"
      },
      "outputs": [
        {
          "output_type": "stream",
          "name": "stdout",
          "text": [
            "Cloning into 'AmateurRadioPrograms'...\n",
            "remote: Enumerating objects: 40, done.\u001b[K\n",
            "remote: Counting objects: 100% (40/40), done.\u001b[K\n",
            "remote: Compressing objects: 100% (40/40), done.\u001b[K\n",
            "remote: Total 40 (delta 19), reused 0 (delta 0), pack-reused 0 (from 0)\u001b[K\n",
            "Receiving objects: 100% (40/40), 159.09 KiB | 1.17 MiB/s, done.\n",
            "Resolving deltas: 100% (19/19), done.\n"
          ]
        }
      ],
      "source": [
        "#Run this cell first\n",
        "!git clone https://github.com/TUIlmenauAMS/AmateurRadioPrograms\n",
        "import sys\n",
        "#print(sys.path[0])\n",
        "sys.path.append('/content/AmateurRadioPrograms')"
      ]
    },
    {
      "cell_type": "markdown",
      "source": [
        "### To display the current solar flux value, run the cell below."
      ],
      "metadata": {
        "id": "blrLZLA5ys-I"
      }
    },
    {
      "cell_type": "code",
      "source": [
        "%run solarfluxdisp.py"
      ],
      "metadata": {
        "colab": {
          "base_uri": "https://localhost:8080/"
        },
        "id": "nxjsUifBJ97T",
        "outputId": "6c0982a6-8cc8-4c74-b668-dcf4d824b2f8"
      },
      "execution_count": null,
      "outputs": [
        {
          "output_type": "stream",
          "name": "stdout",
          "text": [
            "Program to read and display the solar flux value from www.spaceweather.gc.ca\n",
            "Date: 2025-05-02\n",
            "Time: 23:00\n",
            "Observed Flux Density: 152.8 sfu\n"
          ]
        }
      ]
    },
    {
      "cell_type": "markdown",
      "source": [
        "### To display the distance and the nearest big city to a received QTH locator, run the cell below."
      ],
      "metadata": {
        "id": "DNEXO3WYy45f"
      }
    },
    {
      "cell_type": "code",
      "source": [
        "%run qth_locator_distance_city.py"
      ],
      "metadata": {
        "colab": {
          "base_uri": "https://localhost:8080/"
        },
        "id": "kVDqc66yK-K4",
        "outputId": "8d6e1665-ae7c-4c5d-f957-dd18ec03713b"
      },
      "execution_count": null,
      "outputs": [
        {
          "name": "stdout",
          "output_type": "stream",
          "text": [
            "Compute distance and print info on nearest large city given the the own QTH locator and that of a received station. End with 'q'.\n",
            "My locator (e.g. JO62pl for Berlin) = JO62pl\n",
            "Received_locator (4 characters also work) or 'q' = JO33\n",
            "My locator: JO62pl => lat=52.479, lon=13.292\n",
            "Received locator: JO33 => lat=53.500, lon=7.000\n",
            "Distance between locators: 436.0 km\n",
            "Nearest large city > 100000 inhabitants: Groningen, Groningen, Netherlands (approx 42.4 km away from center of JO33), population: 233273.0\n",
            "Nearest large city > 1000000 inhabitants: Amsterdam, Noord-Holland, Netherlands (approx 188.8 km away from center of JO33), population: 1459402.0\n",
            "Received_locator (4 characters also work) or 'q' = q\n"
          ]
        }
      ]
    }
  ]
}