{
  "nbformat": 4,
  "nbformat_minor": 0,
  "metadata": {
    "colab": {
      "provenance": [],
      "authorship_tag": "ABX9TyNEs/88i8pxp6d1VFgeOOGd",
      "include_colab_link": true
    },
    "kernelspec": {
      "name": "python3",
      "display_name": "Python 3"
    },
    "language_info": {
      "name": "python"
    }
  },
  "cells": [
    {
      "cell_type": "markdown",
      "metadata": {
        "id": "view-in-github",
        "colab_type": "text"
      },
      "source": [
        "<a href=\"https://colab.research.google.com/github/TUIlmenauAMS/AmateurRadioPrograms/blob/main/solarflux_qth_distance_city.ipynb\" target=\"_parent\"><img src=\"https://colab.research.google.com/assets/colab-badge.svg\" alt=\"Open In Colab\"/></a>"
      ]
    },
    {
      "cell_type": "markdown",
      "source": [
        "### Run the cell below first, by clicking on the play button to its left (which appears when the mouse is moved over it):"
      ],
      "metadata": {
        "id": "IwXLi4IZyfIf"
      }
    },
    {
      "cell_type": "code",
      "execution_count": 8,
      "metadata": {
        "colab": {
          "base_uri": "https://localhost:8080/"
        },
        "id": "8ooC7DhFHnYo",
        "outputId": "f0cccb1b-92db-48a6-cba1-8c9732a93607"
      },
      "outputs": [
        {
          "output_type": "stream",
          "name": "stdout",
          "text": [
            "/content\n",
            "fatal: destination path 'AmateurRadioPrograms' already exists and is not an empty directory.\n",
            "/content/AmateurRadioPrograms\n"
          ]
        }
      ],
      "source": [
        "#Run this cell first\n",
        "%cd /content\n",
        "!git clone https://github.com/TUIlmenauAMS/AmateurRadioPrograms\n",
        "import sys\n",
        "#print(sys.path[0])\n",
        "#sys.path.append('/content/AmateurRadioPrograms')\n",
        "%cd /content/AmateurRadioPrograms"
      ]
    },
    {
      "cell_type": "markdown",
      "source": [
        "### To display the current solar flux value, run the cell below."
      ],
      "metadata": {
        "id": "blrLZLA5ys-I"
      }
    },
    {
      "cell_type": "code",
      "source": [
        "%run solarfluxdisp.py"
      ],
      "metadata": {
        "colab": {
          "base_uri": "https://localhost:8080/"
        },
        "id": "nxjsUifBJ97T",
        "outputId": "be3e9ac6-83a0-45fc-e221-53760fd65254"
      },
      "execution_count": 2,
      "outputs": [
        {
          "output_type": "stream",
          "name": "stdout",
          "text": [
            "Program to read and display the solar flux value from www.spaceweather.gc.ca\n",
            "Date: 2025-05-13\n",
            "Time: 17:00\n",
            "Observed Flux Density: 119.6 sfu\n"
          ]
        }
      ]
    },
    {
      "cell_type": "markdown",
      "source": [
        "### To display the distance and the nearest big city to a received QTH locator, run the cell below."
      ],
      "metadata": {
        "id": "DNEXO3WYy45f"
      }
    },
    {
      "cell_type": "code",
      "source": [
        "%run qth_locator_distance_city.py"
      ],
      "metadata": {
        "colab": {
          "base_uri": "https://localhost:8080/"
        },
        "id": "kVDqc66yK-K4",
        "outputId": "9c2a2f6a-286f-406f-d6ca-79f2b82dacc1"
      },
      "execution_count": 4,
      "outputs": [
        {
          "name": "stdout",
          "output_type": "stream",
          "text": [
            "Compute distance and print info on nearest large city given the the own QTH locator and that of a received station. End with 'q'.\n",
            "My locator (e.g. JO62pl for Berlin) = JO50MX\n",
            "Received_locator (4 characters also work) or 'q' = EN52\n",
            "My locator: JO50MX => lat=50.979, lon=11.042\n",
            "Received locator: EN52 => lat=42.500, lon=-89.000\n",
            "Distance between locators: 7076.9 km\n",
            "Nearest large city > 100000 inhabitants: Rockford, Illinois, United States (approx 27.2 km away from center of EN52), population: 273237.0\n",
            "Nearest large city > 1000000 inhabitants: Milwaukee, Wisconsin, United States (approx 105.1 km away from center of EN52), population: 1290940.0\n",
            "Received_locator (4 characters also work) or 'q' = q\n"
          ]
        }
      ]
    }
  ]
}