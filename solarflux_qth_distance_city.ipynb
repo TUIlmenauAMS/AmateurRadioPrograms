{
  "nbformat": 4,
  "nbformat_minor": 0,
  "metadata": {
    "colab": {
      "provenance": [],
      "authorship_tag": "ABX9TyNnVal4SAFsFZvIlaa9wzos",
      "include_colab_link": true
    },
    "kernelspec": {
      "name": "python3",
      "display_name": "Python 3"
    },
    "language_info": {
      "name": "python"
    }
  },
  "cells": [
    {
      "cell_type": "markdown",
      "metadata": {
        "id": "view-in-github",
        "colab_type": "text"
      },
      "source": [
        "<a href=\"https://colab.research.google.com/github/TUIlmenauAMS/AmateurRadioPrograms/blob/main/solarflux_qth_distance_city.ipynb\" target=\"_parent\"><img src=\"https://colab.research.google.com/assets/colab-badge.svg\" alt=\"Open In Colab\"/></a>"
      ]
    },
    {
      "cell_type": "markdown",
      "source": [
        "### Run the cell below first, by clicking on the play button to its left (which appears when the mouse is moved over it):"
      ],
      "metadata": {
        "id": "IwXLi4IZyfIf"
      }
    },
    {
      "cell_type": "code",
      "execution_count": 8,
      "metadata": {
        "colab": {
          "base_uri": "https://localhost:8080/"
        },
        "id": "8ooC7DhFHnYo",
        "outputId": "bc082fdf-8bbc-4d17-a74a-ad9d4c12a3b2",
        "cellView": "form"
      },
      "outputs": [
        {
          "name": "stdout",
          "output_type": "stream",
          "text": [
            "/content\n",
            "fatal: destination path 'AmateurRadioPrograms' already exists and is not an empty directory.\n",
            "/content/AmateurRadioPrograms\n",
            "----------------------\n",
            "Current solar flux value:\n",
            "\n",
            "Program to read and display the solar flux value from www.spaceweather.gc.ca\n",
            "Date: 2025-05-19\n",
            "Time: 17:00\n",
            "Observed Flux Density: 117.1 sfu\n",
            "----------------\n",
            "Distance and the nearest big city to a received QTH locator:\n",
            "\n",
            "Compute distance and print info on nearest large city given the the own QTH locator and that of a received station. End with 'q'.\n",
            "My locator (e.g. JO62pl for Berlin) = JO50MX\n",
            "Received_locator (4 characters also work) or 'q' = EN52\n",
            "My locator: JO50MX => lat=50.979, lon=11.042\n",
            "Received locator: EN52 => lat=42.500, lon=-89.000\n",
            "Distance between locators: 7076.9 km\n",
            "Nearest large city > 100000 inhabitants: Rockford, Illinois, United States (approx 27.2 km away from center of EN52), population: 273237.0\n",
            "Nearest large city > 1000000 inhabitants: Milwaukee, Wisconsin, United States (approx 105.1 km away from center of EN52), population: 1290940.0\n",
            "Received_locator (4 characters also work) or 'q' = q\n"
          ]
        }
      ],
      "source": [
        "# @title Run this cell first, display solar flux value, find distance and the nearest big city\n",
        "%cd /content\n",
        "!git clone -q https://github.com/TUIlmenauAMS/AmateurRadioPrograms\n",
        "import sys\n",
        "#print(sys.path[0])\n",
        "#sys.path.append('/content/AmateurRadioPrograms')\n",
        "%cd /content/AmateurRadioPrograms\n",
        "\n",
        "print(\"----------------------\\nCurrent solar flux value:\\n\")\n",
        "%run solarfluxdisp.py\n",
        "print(\"----------------\")\n",
        "print(\"Distance and the nearest big city to a received QTH locator:\\n\")\n",
        "%run qth_locator_distance_city.py"
      ]
    }
  ]
}