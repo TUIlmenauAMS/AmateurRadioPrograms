{
  "nbformat": 4,
  "nbformat_minor": 0,
  "metadata": {
    "colab": {
      "provenance": [],
      "authorship_tag": "ABX9TyNDRmCOIp05CFU9b77sdEjI",
      "include_colab_link": true
    },
    "kernelspec": {
      "name": "python3",
      "display_name": "Python 3"
    },
    "language_info": {
      "name": "python"
    }
  },
  "cells": [
    {
      "cell_type": "markdown",
      "metadata": {
        "id": "view-in-github",
        "colab_type": "text"
      },
      "source": [
        "<a href=\"https://colab.research.google.com/github/TUIlmenauAMS/AmateurRadioPrograms/blob/main/solarflux_qth_distance_city.ipynb\" target=\"_parent\"><img src=\"https://colab.research.google.com/assets/colab-badge.svg\" alt=\"Open In Colab\"/></a>"
      ]
    },
    {
      "cell_type": "markdown",
      "source": [
        "### Run the cell below first, by clicking on the play button to its left (which appears when the mouse is moved over it):"
      ],
      "metadata": {
        "id": "IwXLi4IZyfIf"
      }
    },
    {
      "cell_type": "code",
      "execution_count": 4,
      "metadata": {
        "colab": {
          "base_uri": "https://localhost:8080/"
        },
        "id": "8ooC7DhFHnYo",
        "outputId": "dc4b2311-e681-414f-c704-4788449ddb6b"
      },
      "outputs": [
        {
          "output_type": "stream",
          "name": "stdout",
          "text": [
            "fatal: destination path 'AmateurRadioPrograms' already exists and is not an empty directory.\n",
            "/content/AmateurRadioPrograms\n"
          ]
        }
      ],
      "source": [
        "#Run this cell first\n",
        "!git clone https://github.com/TUIlmenauAMS/AmateurRadioPrograms\n",
        "import sys\n",
        "#print(sys.path[0])\n",
        "#sys.path.append('/content/AmateurRadioPrograms')\n",
        "%cd /content/AmateurRadioPrograms"
      ]
    },
    {
      "cell_type": "markdown",
      "source": [
        "### To display the current solar flux value, run the cell below."
      ],
      "metadata": {
        "id": "blrLZLA5ys-I"
      }
    },
    {
      "cell_type": "code",
      "source": [
        "%run solarfluxdisp.py"
      ],
      "metadata": {
        "colab": {
          "base_uri": "https://localhost:8080/"
        },
        "id": "nxjsUifBJ97T",
        "outputId": "6b9e87e9-0314-4ff9-ad98-e45d268608b1"
      },
      "execution_count": 5,
      "outputs": [
        {
          "output_type": "stream",
          "name": "stdout",
          "text": [
            "Program to read and display the solar flux value from www.spaceweather.gc.ca\n",
            "Date: 2025-05-12\n",
            "Time: 17:00\n",
            "Observed Flux Density: 115.3 sfu\n"
          ]
        }
      ]
    },
    {
      "cell_type": "markdown",
      "source": [
        "### To display the distance and the nearest big city to a received QTH locator, run the cell below."
      ],
      "metadata": {
        "id": "DNEXO3WYy45f"
      }
    },
    {
      "cell_type": "code",
      "source": [
        "%run qth_locator_distance_city.py"
      ],
      "metadata": {
        "colab": {
          "base_uri": "https://localhost:8080/"
        },
        "id": "kVDqc66yK-K4",
        "outputId": "04ecf134-312c-45b9-fb16-a64a6158b053"
      },
      "execution_count": 6,
      "outputs": [
        {
          "name": "stdout",
          "output_type": "stream",
          "text": [
            "Compute distance and print info on nearest large city given the the own QTH locator and that of a received station. End with 'q'.\n",
            "My locator (e.g. JO62pl for Berlin) = JO50mx\n",
            "Received_locator (4 characters also work) or 'q' = GG87\n",
            "My locator: JO50mx => lat=50.979, lon=11.042\n",
            "Received locator: GG87 => lat=-22.500, lon=-43.000\n",
            "Distance between locators: 9725.6 km\n",
            "Nearest large city > 100000 inhabitants: Teresópolis, Rio de Janeiro, Brazil (approx 10.4 km away from center of GG87), population: 163746.0\n",
            "Nearest large city > 1000000 inhabitants: Rio de Janeiro, Rio de Janeiro, Brazil (approx 50.3 km away from center of GG87), population: 12592000.0\n",
            "Received_locator (4 characters also work) or 'q' = q\n"
          ]
        }
      ]
    }
  ]
}