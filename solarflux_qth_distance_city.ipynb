{
  "nbformat": 4,
  "nbformat_minor": 0,
  "metadata": {
    "colab": {
      "provenance": [],
      "authorship_tag": "ABX9TyP8pFi/cWmUeetzBEwBhKUC",
      "include_colab_link": true
    },
    "kernelspec": {
      "name": "python3",
      "display_name": "Python 3"
    },
    "language_info": {
      "name": "python"
    }
  },
  "cells": [
    {
      "cell_type": "markdown",
      "metadata": {
        "id": "view-in-github",
        "colab_type": "text"
      },
      "source": [
        "<a href=\"https://colab.research.google.com/github/TUIlmenauAMS/AmateurRadioPrograms/blob/main/solarflux_qth_distance_city.ipynb\" target=\"_parent\"><img src=\"https://colab.research.google.com/assets/colab-badge.svg\" alt=\"Open In Colab\"/></a>"
      ]
    },
    {
      "cell_type": "markdown",
      "source": [
        "### Run the cell below first, by clicking on the play button to its left (which appears when the mouse is moved over it):"
      ],
      "metadata": {
        "id": "IwXLi4IZyfIf"
      }
    },
    {
      "cell_type": "code",
      "execution_count": 14,
      "metadata": {
        "colab": {
          "base_uri": "https://localhost:8080/"
        },
        "id": "8ooC7DhFHnYo",
        "outputId": "c92fcd6b-9b21-4be0-ba03-ba55a021e997"
      },
      "outputs": [
        {
          "output_type": "stream",
          "name": "stdout",
          "text": [
            "fatal: destination path 'AmateurRadioPrograms' already exists and is not an empty directory.\n"
          ]
        }
      ],
      "source": [
        "#Run this cell first\n",
        "!git clone https://github.com/TUIlmenauAMS/AmateurRadioPrograms\n",
        "import sys\n",
        "#print(sys.path[0])\n",
        "sys.path.append('/content/AmateurRadioPrograms')"
      ]
    },
    {
      "cell_type": "markdown",
      "source": [
        "### To display the current solar flux value, run the cell below."
      ],
      "metadata": {
        "id": "blrLZLA5ys-I"
      }
    },
    {
      "cell_type": "code",
      "source": [
        "%run /content/AmateurRadioPrograms/solarfluxdisp.py"
      ],
      "metadata": {
        "colab": {
          "base_uri": "https://localhost:8080/"
        },
        "id": "nxjsUifBJ97T",
        "outputId": "0feaa832-7eee-496a-da01-30f5076928cf"
      },
      "execution_count": 16,
      "outputs": [
        {
          "output_type": "stream",
          "name": "stdout",
          "text": [
            "Program to read and display the solar flux value from www.spaceweather.gc.ca\n",
            "Date: 2025-05-11\n",
            "Time: 17:00\n",
            "Observed Flux Density: 126.3 sfu\n"
          ]
        }
      ]
    },
    {
      "cell_type": "markdown",
      "source": [
        "### To display the distance and the nearest big city to a received QTH locator, run the cell below."
      ],
      "metadata": {
        "id": "DNEXO3WYy45f"
      }
    },
    {
      "cell_type": "code",
      "source": [
        "%run /content/AmateurRadioPrograms/qth_locator_distance_city.py"
      ],
      "metadata": {
        "colab": {
          "base_uri": "https://localhost:8080/"
        },
        "id": "kVDqc66yK-K4",
        "outputId": "8d6e1665-ae7c-4c5d-f957-dd18ec03713b"
      },
      "execution_count": null,
      "outputs": [
        {
          "name": "stdout",
          "output_type": "stream",
          "text": [
            "Compute distance and print info on nearest large city given the the own QTH locator and that of a received station. End with 'q'.\n",
            "My locator (e.g. JO62pl for Berlin) = JO62pl\n",
            "Received_locator (4 characters also work) or 'q' = JO33\n",
            "My locator: JO62pl => lat=52.479, lon=13.292\n",
            "Received locator: JO33 => lat=53.500, lon=7.000\n",
            "Distance between locators: 436.0 km\n",
            "Nearest large city > 100000 inhabitants: Groningen, Groningen, Netherlands (approx 42.4 km away from center of JO33), population: 233273.0\n",
            "Nearest large city > 1000000 inhabitants: Amsterdam, Noord-Holland, Netherlands (approx 188.8 km away from center of JO33), population: 1459402.0\n",
            "Received_locator (4 characters also work) or 'q' = q\n"
          ]
        }
      ]
    }
  ]
}