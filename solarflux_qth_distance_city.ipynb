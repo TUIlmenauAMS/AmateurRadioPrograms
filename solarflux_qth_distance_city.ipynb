{
  "nbformat": 4,
  "nbformat_minor": 0,
  "metadata": {
    "colab": {
      "provenance": [],
      "authorship_tag": "ABX9TyNNg14sSCnqklE2B/mXl5pU",
      "include_colab_link": true
    },
    "kernelspec": {
      "name": "python3",
      "display_name": "Python 3"
    },
    "language_info": {
      "name": "python"
    }
  },
  "cells": [
    {
      "cell_type": "markdown",
      "metadata": {
        "id": "view-in-github",
        "colab_type": "text"
      },
      "source": [
        "<a href=\"https://colab.research.google.com/github/TUIlmenauAMS/AmateurRadioPrograms/blob/main/solarflux_qth_distance_city.ipynb\" target=\"_parent\"><img src=\"https://colab.research.google.com/assets/colab-badge.svg\" alt=\"Open In Colab\"/></a>"
      ]
    },
    {
      "cell_type": "code",
      "execution_count": 11,
      "metadata": {
        "colab": {
          "base_uri": "https://localhost:8080/"
        },
        "id": "8ooC7DhFHnYo",
        "outputId": "eb12f4a1-90be-42c0-ca2f-d12c5c8b7f04",
        "cellView": "form"
      },
      "outputs": [
        {
          "name": "stdout",
          "output_type": "stream",
          "text": [
            "/content\n",
            "fatal: destination path 'AmateurRadioPrograms' already exists and is not an empty directory.\n",
            "/content/AmateurRadioPrograms\n",
            "----------------------\n",
            "\n",
            "Current solar flux value:\n",
            "\n",
            "Program to read and display the solar flux value from www.spaceweather.gc.ca\n",
            "Date: 2025-05-19\n",
            "Time: 17:00\n",
            "Observed Flux Density: 117.1 sfu\n",
            "----------------\n",
            "\n",
            "Compute distance and print info on nearest large city given the the own QTH locator and that of a received station. End with 'q'.\n",
            "My locator (e.g. JO62pl for Berlin) = JO50mx\n",
            "Received_locator (4 characters also work) or 'q' = EN51\n",
            "My locator: JO50mx => lat=50.979, lon=11.042\n",
            "Received locator: EN51 => lat=41.500, lon=-89.000\n",
            "Distance between locators: 7157.5 km\n",
            "Nearest large city > 100000 inhabitants: Aurora, Illinois, United States (approx 65.9 km away from center of EN51), population: 181405.0\n",
            "Nearest large city > 1000000 inhabitants: Chicago, Illinois, United States (approx 115.4 km away from center of EN51), population: 8497759.0\n",
            "Received_locator (4 characters also work) or 'q' = q\n"
          ]
        }
      ],
      "source": [
        "# @title Run this cell first to display solar flux value and find distance and the nearest big city\n",
        "%cd /content\n",
        "!git clone -q https://github.com/TUIlmenauAMS/AmateurRadioPrograms\n",
        "import sys\n",
        "#print(sys.path[0])\n",
        "#sys.path.append('/content/AmateurRadioPrograms')\n",
        "%cd /content/AmateurRadioPrograms\n",
        "\n",
        "print(\"----------------------\\n\\nCurrent solar flux value:\\n\")\n",
        "%run solarfluxdisp.py\n",
        "print(\"----------------\\n\")\n",
        "%run qth_locator_distance_city.py"
      ]
    }
  ]
}